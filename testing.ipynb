{
 "cells": [
  {
   "cell_type": "code",
   "execution_count": 1,
   "metadata": {},
   "outputs": [],
   "source": [
    "import util\n",
    "import numpy as np\n",
    "import pandas as pd"
   ]
  },
  {
   "cell_type": "code",
   "execution_count": 2,
   "metadata": {},
   "outputs": [
    {
     "name": "stdout",
     "output_type": "stream",
     "text": [
      "Ingesting data: 2020-08-23 11:00:23\n",
      "Connected to database.sqlite\n",
      "Loaded and cleaned match data\n",
      "Loaded and cleaned player data\n",
      "Finished ingesting data in 0.17 minutes\n",
      "Getting train/test splits: 2020-08-23 11:00:34\n"
     ]
    },
    {
     "name": "stderr",
     "output_type": "stream",
     "text": [
      "Creating Train graphs:   0%|                                                                 | 0/17083 [00:00<?, ?it/s]"
     ]
    },
    {
     "name": "stdout",
     "output_type": "stream",
     "text": [
      "Finished ingesting data in 0.02 minutes\n",
      "Generating graphs: 2020-08-23 11:00:35\n"
     ]
    },
    {
     "name": "stderr",
     "output_type": "stream",
     "text": [
      "Creating Train graphs: 100%|████████████████████████████████████████████████████| 17083/17083 [01:56<00:00, 146.43it/s]\n",
      "Creating Test graphs: 100%|███████████████████████████████████████████████████████| 4271/4271 [00:29<00:00, 145.32it/s]\n"
     ]
    },
    {
     "name": "stdout",
     "output_type": "stream",
     "text": [
      "Finished graph generation in 2.44 minutes\n",
      "Creating block diagonal adjacency matrices: 2020-08-23 11:03:01\n",
      "Finished adjacency matrices in 0.02 minutes\n",
      "Creating block diagonal feature matrices: 2020-08-23 11:03:02\n",
      "Finished feature matrices in 0.09 minutes\n",
      "Creating block diagonal pooling matrices: 2020-08-23 11:03:08\n",
      "Finished feature matrices in 0.07 minutes\n"
     ]
    }
   ],
   "source": [
    "train_block_adj, train_block_feat, train_block_pool, y_train, test_block_adj, test_block_feat, test_block_pool, y_test = util.main()"
   ]
  },
  {
   "cell_type": "code",
   "execution_count": null,
   "metadata": {},
   "outputs": [],
   "source": []
  }
 ],
 "metadata": {
  "kernelspec": {
   "display_name": "Python 3",
   "language": "python",
   "name": "python3"
  },
  "language_info": {
   "codemirror_mode": {
    "name": "ipython",
    "version": 3
   },
   "file_extension": ".py",
   "mimetype": "text/x-python",
   "name": "python",
   "nbconvert_exporter": "python",
   "pygments_lexer": "ipython3",
   "version": "3.7.6"
  }
 },
 "nbformat": 4,
 "nbformat_minor": 4
}
