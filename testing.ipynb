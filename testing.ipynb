{
 "cells": [
  {
   "cell_type": "code",
   "execution_count": 4,
   "metadata": {},
   "outputs": [],
   "source": [
    "import util\n",
    "import numpy as np\n",
    "import pandas as pd\n",
    "import torch"
   ]
  },
  {
   "cell_type": "code",
   "execution_count": 2,
   "metadata": {},
   "outputs": [
    {
     "name": "stdout",
     "output_type": "stream",
     "text": [
      "Ingesting data: 2020-08-29 11:12:06\n",
      "Connected to database.sqlite\n",
      "Loaded and cleaned match data\n",
      "Loaded and cleaned player data\n",
      "Finished ingesting data in 0.18 minutes\n",
      "Getting train/test splits: 2020-08-29 11:12:16\n"
     ]
    },
    {
     "name": "stderr",
     "output_type": "stream",
     "text": [
      "Creating Train graphs:   0%|                                                                 | 0/17083 [00:00<?, ?it/s]"
     ]
    },
    {
     "name": "stdout",
     "output_type": "stream",
     "text": [
      "Finished ingesting data in 0.02 minutes\n",
      "Generating graphs: 2020-08-29 11:12:17\n"
     ]
    },
    {
     "name": "stderr",
     "output_type": "stream",
     "text": [
      "Creating Train graphs: 100%|████████████████████████████████████████████████████| 17083/17083 [02:02<00:00, 138.92it/s]\n",
      "Creating Test graphs: 100%|███████████████████████████████████████████████████████| 4271/4271 [00:30<00:00, 139.08it/s]\n"
     ]
    },
    {
     "name": "stdout",
     "output_type": "stream",
     "text": [
      "Finished graph generation in 2.56 minutes\n",
      "Creating block diagonal adjacency matrices: 2020-08-29 11:14:51\n",
      "Finished adjacency matrices in 0.0 minutes\n",
      "Creating block diagonal feature matrices: 2020-08-29 11:14:51\n",
      "Finished feature matrices in 0.01 minutes\n"
     ]
    }
   ],
   "source": [
    "train_block_adj, train_block_feat, y_train, test_block_adj, test_block_feat, y_test = util.main()"
   ]
  },
  {
   "cell_type": "code",
   "execution_count": 28,
   "metadata": {},
   "outputs": [
    {
     "data": {
      "text/plain": [
       "11"
      ]
     },
     "execution_count": 28,
     "metadata": {},
     "output_type": "execute_result"
    }
   ],
   "source": [
    "num = len(train_block_feat)\n",
    "np.max([n for n in range(1, num + 1) if num % n == 0 and n > 1 and n <= 256])"
   ]
  }
 ],
 "metadata": {
  "kernelspec": {
   "display_name": "Python 3",
   "language": "python",
   "name": "python3"
  },
  "language_info": {
   "codemirror_mode": {
    "name": "ipython",
    "version": 3
   },
   "file_extension": ".py",
   "mimetype": "text/x-python",
   "name": "python",
   "nbconvert_exporter": "python",
   "pygments_lexer": "ipython3",
   "version": "3.7.6"
  }
 },
 "nbformat": 4,
 "nbformat_minor": 4
}
